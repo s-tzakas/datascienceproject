{
 "cells": [
  {
   "cell_type": "code",
   "execution_count": 2,
   "id": "7d4a2185",
   "metadata": {},
   "outputs": [],
   "source": [
    "import numpy as np #importing numpy pkg\n",
    "import pandas as pd #importing pandas pkg\n",
    "import yfinance as yf # Yahoo API for stock market\n",
    "import plotly.graph_objs as go #Data Viz"
   ]
  },
  {
   "cell_type": "code",
   "execution_count": 10,
   "id": "9b38a020",
   "metadata": {
    "scrolled": true
   },
   "outputs": [
    {
     "name": "stdout",
     "output_type": "stream",
     "text": [
      "[*********************100%***********************]  1 of 1 completed\n"
     ]
    }
   ],
   "source": [
    "symbol = ['AAPL']\n",
    "data1 = yf.download(tickers= symbol, period= '1mo', interval='1d') # Apple Stock for 1 month into 1 day interval"
   ]
  },
  {
   "cell_type": "code",
   "execution_count": null,
   "id": "e811f83c",
   "metadata": {},
   "outputs": [],
   "source": [
    "data1"
   ]
  },
  {
   "cell_type": "code",
   "execution_count": 17,
   "id": "0360942b",
   "metadata": {},
   "outputs": [
    {
     "data": {
      "text/plain": [
       "<AxesSubplot:title={'center':\"APPLE's stock price\"}, xlabel='Date'>"
      ]
     },
     "execution_count": 17,
     "metadata": {},
     "output_type": "execute_result"
    },
    {
     "data": {
      "image/png": "[encoded data removed]",
      "text/plain": [
       "<Figure size 432x288 with 1 Axes>"
      ]
     },
     "metadata": {
      "needs_background": "light"
     },
     "output_type": "display_data"
    }
   ],
   "source": [
    "apple = yf.Ticker('AAPL')\n",
    "aapl_df = apple.history(period=\"1mo\", interval=\"1d\")\n",
    "aapl_df['Close'].plot(title=\"APPLE's stock price\")"
   ]
  },
  {
   "cell_type": "code",
   "execution_count": 15,
   "id": "100a8fc9",
   "metadata": {},
   "outputs": [
    {
     "data": {
      "text/html": [
       "<div>\n",
       "<style scoped>\n",
       "    .dataframe tbody tr th:only-of-type {\n",
       "        vertical-align: middle;\n",
       "    }\n",
       "\n",
       "    .dataframe tbody tr th {\n",
       "        vertical-align: top;\n",
       "    }\n",
       "\n",
       "    .dataframe thead th {\n",
       "        text-align: right;\n",
       "    }\n",
       "</style>\n",
       "<table border=\"1\" class=\"dataframe\">\n",
       "  <thead>\n",
       "    <tr style=\"text-align: right;\">\n",
       "      <th></th>\n",
       "      <th>0</th>\n",
       "      <th>1</th>\n",
       "    </tr>\n",
       "  </thead>\n",
       "  <tbody>\n",
       "    <tr>\n",
       "      <th>0</th>\n",
       "      <td>0.07%</td>\n",
       "      <td>% of Shares Held by All Insider</td>\n",
       "    </tr>\n",
       "    <tr>\n",
       "      <th>1</th>\n",
       "      <td>59.08%</td>\n",
       "      <td>% of Shares Held by Institutions</td>\n",
       "    </tr>\n",
       "    <tr>\n",
       "      <th>2</th>\n",
       "      <td>59.12%</td>\n",
       "      <td>% of Float Held by Institutions</td>\n",
       "    </tr>\n",
       "    <tr>\n",
       "      <th>3</th>\n",
       "      <td>4967</td>\n",
       "      <td>Number of Institutions Holding Shares</td>\n",
       "    </tr>\n",
       "  </tbody>\n",
       "</table>\n",
       "</div>"
      ],
      "text/plain": [
       "        0                                      1\n",
       "0   0.07%        % of Shares Held by All Insider\n",
       "1  59.08%       % of Shares Held by Institutions\n",
       "2  59.12%        % of Float Held by Institutions\n",
       "3    4967  Number of Institutions Holding Shares"
      ]
     },
     "execution_count": 15,
     "metadata": {},
     "output_type": "execute_result"
    }
   ],
   "source": [
    "apple = yf.Ticker('AAPL')\n",
    "apple.major_holders"
   ]
  },
  {
   "cell_type": "code",
   "execution_count": null,
   "id": "5d92d619",
   "metadata": {},
   "outputs": [],
   "source": []
  }
 ],
 "metadata": {
  "kernelspec": {
   "display_name": "Python 3 (ipykernel)",
   "language": "python",
   "name": "python3"
  },
  "language_info": {
   "codemirror_mode": {
    "name": "ipython",
    "version": 3
   },
   "file_extension": ".py",
   "mimetype": "text/x-python",
   "name": "python",
   "nbconvert_exporter": "python",
   "pygments_lexer": "ipython3",
   "version": "3.9.7"
  }
 },
 "nbformat": 4,
 "nbformat_minor": 5
}
